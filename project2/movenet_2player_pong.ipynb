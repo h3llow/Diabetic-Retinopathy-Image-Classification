{
 "cells": [
  {
   "cell_type": "markdown",
   "metadata": {},
   "source": [
    "Resources:\n",
    "\n",
    "https://www.tensorflow.org/hub/tutorials/movenet\n",
    "\n",
    "https://www.kaggle.com/models/google/movenet/frameworks/tensorFlow2/variations/multipose-lightning\n",
    "\n",
    "https://www.youtube.com/watch?v=KC7nJtBHBqg&ab_channel=NicholasRenotte"
   ]
  },
  {
   "cell_type": "markdown",
   "metadata": {},
   "source": [
    "- single player variant\n",
    "- get faster over time\n",
    "- game over after a certain time or once a certain score is hit, display \"game over\" and show score\n",
    "- restart button\n",
    "- ...\n"
   ]
  },
  {
   "cell_type": "code",
   "execution_count": 1,
   "metadata": {
    "ExecuteTime": {
     "end_time": "2024-01-17T11:32:37.464828100Z",
     "start_time": "2024-01-17T11:32:23.780064200Z"
    }
   },
   "outputs": [
    {
     "name": "stdout",
     "output_type": "stream",
     "text": [
      "WARNING:tensorflow:From C:\\Users\\melis\\PycharmProjects\\pml1\\group02\\lib\\site-packages\\keras\\src\\losses.py:2976: The name tf.losses.sparse_softmax_cross_entropy is deprecated. Please use tf.compat.v1.losses.sparse_softmax_cross_entropy instead.\n",
      "WARNING:tensorflow:From C:\\Users\\melis\\PycharmProjects\\pml1\\group02\\lib\\site-packages\\tensorflow_estimator\\python\\estimator\\util.py:74: The name tf.train.SessionRunHook is deprecated. Please use tf.estimator.SessionRunHook instead.\n",
      "WARNING:tensorflow:From C:\\Users\\melis\\PycharmProjects\\pml1\\group02\\lib\\site-packages\\tensorflow_hub\\native_module.py:92: The name tf.GraphKeys is deprecated. Please use tf.compat.v1.GraphKeys instead.\n",
      "WARNING:tensorflow:From C:\\Users\\melis\\PycharmProjects\\pml1\\group02\\lib\\site-packages\\tensorflow_hub\\saved_model_module.py:40: The name tf.saved_model.constants.LEGACY_INIT_OP_KEY is deprecated. Please use tf.compat.v1.saved_model.constants.LEGACY_INIT_OP_KEY instead.\n"
     ]
    }
   ],
   "source": [
    "%matplotlib inline\n",
    "# Import TF and TF Hub libraries.\n",
    "import tensorflow as tf\n",
    "import tensorflow_hub as hub\n",
    "import cv2\n",
    "import matplotlib.pyplot as plt"
   ]
  },
  {
   "cell_type": "code",
   "execution_count": 2,
   "metadata": {
    "ExecuteTime": {
     "end_time": "2024-01-17T11:29:31.391740400Z",
     "start_time": "2024-01-17T11:29:31.379173600Z"
    }
   },
   "outputs": [
    {
     "data": {
      "text/plain": "[]"
     },
     "execution_count": 2,
     "metadata": {},
     "output_type": "execute_result"
    }
   ],
   "source": [
    "# Check for GPU usage\n",
    "gpus = tf.config.experimental.list_physical_devices('GPU')\n",
    "gpus"
   ]
  },
  {
   "cell_type": "code",
   "execution_count": 2,
   "metadata": {
    "ExecuteTime": {
     "end_time": "2024-01-17T11:32:52.794281800Z",
     "start_time": "2024-01-17T11:32:37.470381700Z"
    }
   },
   "outputs": [
    {
     "name": "stdout",
     "output_type": "stream",
     "text": [
      "WARNING:tensorflow:From C:\\Users\\melis\\PycharmProjects\\pml1\\group02\\lib\\site-packages\\tensorflow_hub\\resolver.py:120: The name tf.gfile.MakeDirs is deprecated. Please use tf.io.gfile.makedirs instead.\n"
     ]
    },
    {
     "name": "stderr",
     "output_type": "stream",
     "text": [
      "WARNING:tensorflow:From C:\\Users\\melis\\PycharmProjects\\pml1\\group02\\lib\\site-packages\\tensorflow_hub\\resolver.py:120: The name tf.gfile.MakeDirs is deprecated. Please use tf.io.gfile.makedirs instead.\n",
      "\n"
     ]
    },
    {
     "name": "stdout",
     "output_type": "stream",
     "text": [
      "WARNING:tensorflow:From C:\\Users\\melis\\PycharmProjects\\pml1\\group02\\lib\\site-packages\\tensorflow_hub\\module_v2.py:120: The name tf.saved_model.load_v2 is deprecated. Please use tf.compat.v2.saved_model.load instead.\n"
     ]
    },
    {
     "name": "stderr",
     "output_type": "stream",
     "text": [
      "WARNING:tensorflow:From C:\\Users\\melis\\PycharmProjects\\pml1\\group02\\lib\\site-packages\\tensorflow_hub\\module_v2.py:120: The name tf.saved_model.load_v2 is deprecated. Please use tf.compat.v2.saved_model.load instead.\n",
      "\n"
     ]
    }
   ],
   "source": [
    "# Download the model from TF Hub.\n",
    "model = hub.load(\"https://www.kaggle.com/models/google/movenet/frameworks/TensorFlow2/variations/multipose-lightning/versions/1\")\n",
    "movenet = model.signatures['serving_default']"
   ]
  },
  {
   "cell_type": "code",
   "execution_count": 3,
   "metadata": {
    "ExecuteTime": {
     "end_time": "2024-01-17T11:32:52.838794200Z",
     "start_time": "2024-01-17T11:32:52.804409900Z"
    }
   },
   "outputs": [],
   "source": [
    "# Dictionary that maps from joint names to keypoint indices.\n",
    "KEYPOINT_DICT = {\n",
    "    'nose': 0,\n",
    "    'left_eye': 1,\n",
    "    'right_eye': 2,\n",
    "    'left_ear': 3,\n",
    "    'right_ear': 4,\n",
    "    'left_shoulder': 5,\n",
    "    'right_shoulder': 6,\n",
    "    'left_elbow': 7,\n",
    "    'right_elbow': 8,\n",
    "    'left_wrist': 9,\n",
    "    'right_wrist': 10,\n",
    "    'left_hip': 11,\n",
    "    'right_hip': 12,\n",
    "    'left_knee': 13,\n",
    "    'right_knee': 14,\n",
    "    'left_ankle': 15,\n",
    "    'right_ankle': 16\n",
    "}\n",
    "\n",
    "# Maps bones to an RGB color\n",
    "EDGES_DICT = {\n",
    "    (0, 1): (255,0,0),\n",
    "    (0, 2): (0,0,255),\n",
    "    (1, 3): (255,0,0),\n",
    "    (2, 4): (0,0,255),\n",
    "    (0, 5): (255,0,0),\n",
    "    (0, 6): (0,0,255),\n",
    "    (5, 7): (255,0,0),\n",
    "    (7, 9): (255,0,0),\n",
    "    (6, 8): (0,0,255),\n",
    "    (8, 10): (0,0,255),\n",
    "    (5, 6): (0,255,0),\n",
    "    (5, 11): (255,0,0),\n",
    "    (6, 12): (0,0,255),\n",
    "    (11, 12): (0,255,0),\n",
    "    (11, 13): (255,0,0),\n",
    "    (13, 15): (255,0,0),\n",
    "    (12, 14): (0,0,255),\n",
    "    (14, 16): (0,0,255)\n",
    "}"
   ]
  },
  {
   "cell_type": "code",
   "execution_count": 5,
   "outputs": [],
   "source": [
    "HANDS_ON_HEAD_POSE_JOINTS = ['left_wrist', 'right_wrist', 'nose']\n",
    "\n",
    "# Funktion zur Überprüfung der \"Hands on Head\"-Pose für einen Spieler\n",
    "def is_hands_on_head_pose(keypoints_with_scores, player_index=0, confidence_threshold=0.3):\n",
    "    pose_confidence = 0.0\n",
    "    for joint_name in HANDS_ON_HEAD_POSE_JOINTS:\n",
    "        joint_index = KEYPOINT_DICT[joint_name]\n",
    "        pose_confidence += keypoints_with_scores[player_index, joint_index, 2]\n",
    "\n",
    "    average_confidence = pose_confidence / len(HANDS_ON_HEAD_POSE_JOINTS)\n",
    "    return average_confidence > confidence_threshold\n"
   ],
   "metadata": {
    "collapsed": false,
    "ExecuteTime": {
     "end_time": "2024-01-17T11:29:50.969315600Z",
     "start_time": "2024-01-17T11:29:50.942129600Z"
    }
   }
  },
  {
   "cell_type": "code",
   "execution_count": 4,
   "metadata": {
    "ExecuteTime": {
     "end_time": "2024-01-17T11:32:52.849504700Z",
     "start_time": "2024-01-17T11:32:52.834481900Z"
    }
   },
   "outputs": [],
   "source": [
    "def draw_keypoints(frame, keypoints_with_scores, confidence_threshold):\n",
    "    img = frame.copy()\n",
    "    height, width, _ = img.shape\n",
    "\n",
    "    for person in keypoints_with_scores:\n",
    "        for kp in person:\n",
    "            if kp[2] > confidence_threshold:\n",
    "                cv2.circle(img, (int(kp[1]*width),int(kp[0]*height)), radius=10, color=(255,255,255), thickness=-1)\n",
    "    return img"
   ]
  },
  {
   "cell_type": "code",
   "execution_count": 5,
   "metadata": {
    "ExecuteTime": {
     "end_time": "2024-01-17T11:32:52.861934600Z",
     "start_time": "2024-01-17T11:32:52.849504700Z"
    }
   },
   "outputs": [],
   "source": [
    "def draw_edges(frame, keypoints_with_scores, confidence_threshold):\n",
    "    img = frame.copy()\n",
    "    height, width, _ = img.shape\n",
    "\n",
    "    for person in keypoints_with_scores:\n",
    "        for edge in EDGES_DICT.keys():\n",
    "            kp_1 = person[edge[0]]\n",
    "            kp_2 = person[edge[1]]\n",
    "            if (kp_1[2] > confidence_threshold) and (kp_2[2] > confidence_threshold):\n",
    "                cv2.line(img,(int(kp_1[1]*width),int(kp_1[0]*height)),(int(kp_2[1]*width),int(kp_2[0]*height)),color=EDGES_DICT[edge], thickness=5)\n",
    "    return img"
   ]
  },
  {
   "cell_type": "code",
   "execution_count": 6,
   "metadata": {
    "ExecuteTime": {
     "end_time": "2024-01-17T11:32:52.882963500Z",
     "start_time": "2024-01-17T11:32:52.863036Z"
    }
   },
   "outputs": [],
   "source": [
    "def twoplayer_highest_confidence(keypoints_with_scores):\n",
    "    # input shape: (6,17,3) (detected people, keypoints, x y and confidence)\n",
    "    # output shape: (2,17,3) (two people with highest confidence across all keypoints, keypoints, x y and confidence)\n",
    "    confidence_sums = []\n",
    "    for person in keypoints_with_scores:\n",
    "        confidence_sums.append(sum(person[:,2]))\n",
    "    \n",
    "    indices_of_highest = sorted(range(len(confidence_sums)), key=lambda i: confidence_sums[i], reverse=True)[:2]\n",
    "    \n",
    "    return keypoints_with_scores[indices_of_highest,:,:]"
   ]
  },
  {
   "cell_type": "code",
   "execution_count": 7,
   "metadata": {
    "ExecuteTime": {
     "end_time": "2024-01-17T11:32:52.896527500Z",
     "start_time": "2024-01-17T11:32:52.878152200Z"
    }
   },
   "outputs": [],
   "source": [
    "# Pong game parameters\n",
    "\n",
    "ball_radius = 20\n",
    "paddle_width, paddle_height = 20, 100\n",
    "ball_speed = 5 # TODO faster with time\n",
    "paddle_speed = 3\n",
    "score_left = 0\n",
    "score_right = 0\n",
    "\n",
    "game_over = False\n",
    "game_over_text = \"\"\n",
    "replay_text = 'Press r to play again'\n",
    "def reset_game():\n",
    "    global score_left, score_right, right_paddle_y, left_paddle_y, ball_x, ball_y, ball_dx, ball_dy, ball_speed, game_over\n",
    "    score_left = 0\n",
    "    score_right = 0\n",
    "    right_paddle_y = height // 2\n",
    "    left_paddle_y = height // 2\n",
    "    ball_x, ball_y = width // 2, height // 2\n",
    "    ball_dx, ball_dy = ball_speed, ball_speed\n",
    "    game_over = False\n",
    "    ball_dx, ball_dy =3, 3\n"
   ]
  },
  {
   "cell_type": "code",
   "execution_count": null,
   "metadata": {},
   "outputs": [],
   "source": [
    "import time\n",
    "cap = cv2.VideoCapture(0)\n",
    "\n",
    "cap.set(3,1000)\n",
    "cap.set(4,820)\n",
    "width  = int(cap.get(cv2.CAP_PROP_FRAME_WIDTH))   # float `width`\n",
    "height = int(cap.get(cv2.CAP_PROP_FRAME_HEIGHT))\n",
    "print(width)\n",
    "print(height)# float `height`\n",
    "# Initialize paddle and ball positions\n",
    "right_paddle_y = height // 2\n",
    "left_paddle_y = height // 2\n",
    "ball_x, ball_y = width // 2, height // 2\n",
    "ball_dx, ball_dy = ball_speed, ball_speed\n",
    "speed_increase_timer = time.time()\n",
    "time_to_increase_speed = 2 \n",
    "\n",
    "\n",
    "while cap.isOpened():\n",
    "    ret, frame = cap.read()\n",
    "\n",
    "    if not ret:\n",
    "        print(\"Failed to capture a frame. Exiting...\")\n",
    "        break\n",
    "\n",
    "    # Flip the frame horizontally for a later selfie-view display\n",
    "    frame = cv2.flip(frame, 1)\n",
    "\n",
    "    # Convert the BGR image to RGB\n",
    "    cv2.cvtColor(frame, cv2.COLOR_BGR2RGB)\n",
    "\n",
    "    # Prepare frame for detection\n",
    "    image = frame.copy()\n",
    "    image = tf.expand_dims(image, axis=0)\n",
    "    # Resize with zero padding (if aspect ratio doesn't match the original one)\n",
    "    image = tf.image.resize_with_pad(image,160,256)\n",
    "    image = tf.cast(image, dtype=tf.int32)\n",
    "    \n",
    "    # Detect\n",
    "    results = movenet(image)\n",
    "    keypoints_with_scores = results['output_0'].numpy()[:,:,:51].reshape(6,17,3)\n",
    "\n",
    "    # Get keypoints of 2 people with the highest confidence\n",
    "    keypoints_with_scores = twoplayer_highest_confidence(keypoints_with_scores)\n",
    "\n",
    "    # Extract nose landmarks\n",
    "    person1 = keypoints_with_scores[0,0,:]\n",
    "    person2 = keypoints_with_scores[1,0,:]\n",
    "\n",
    "    person1_y = int(person1[0] * height)\n",
    "    person2_y = int(person2[0] * height)\n",
    "\n",
    "    # Update paddle positions\n",
    "    right_paddle_y = person1_y\n",
    "    left_paddle_y = person2_y\n",
    "\n",
    "    # Set confidence threshold\n",
    "    confidence_threshold = 0.3\n",
    "   # Überprüfe, ob 2 Sekunden vergangen sind, um die Ballgeschwindigkeit zu erhöhen\n",
    "    if time.time() - speed_increase_timer >= time_to_increase_speed:\n",
    "        ball_speed += 3  # Erhöhe die Ballgeschwindigkeit um 1 Einheit\n",
    "        speed_increase_timer = time.time()  # Setze den Timer zurück\n",
    "    # Update ball position\n",
    "    ball_x += ball_dx\n",
    "    ball_y += ball_dy\n",
    "\n",
    "    # Bounce off of the top and bottom walls\n",
    "    if ball_y - ball_radius <= 0 or ball_y + ball_radius >= height:\n",
    "        ball_dy = -ball_dy\n",
    "    \n",
    "    # Check for collision with paddle\n",
    "    if (\n",
    "            ball_x - ball_radius <= paddle_width\n",
    "            and abs(ball_y - left_paddle_y) <= paddle_height\n",
    "        ) or (\n",
    "            ball_x + ball_radius >= width - paddle_width\n",
    "            and abs(ball_y - right_paddle_y) <= paddle_height\n",
    "        ):\n",
    "            ball_dx = -ball_dx  # Change direction\n",
    "\n",
    "    # Count score and reset ball\n",
    "    #if ball_x - ball_radius <= 0:\n",
    "    if ball_x <= 0:\n",
    "        score_right += 1\n",
    "        ball_x = width // 2\n",
    "        ball_y = height // 2\n",
    "\n",
    "    #if ball_x + ball_radius >= width:\n",
    "    if ball_x >= width:\n",
    "        score_left += 1\n",
    "        ball_x = width // 2\n",
    "        ball_y = height // 2\n",
    "\n",
    "   \n",
    "    if score_left >= 2 or score_right >= 2:\n",
    "        game_over = True\n",
    "        game_over_text = \"Game Over!\\nPlayer 1: {} - Player 2: {}\\nPress r to play again\".format(score_left, score_right)\n",
    "        cv2.putText(frame, game_over_text, (100, 200), cv2.FONT_HERSHEY_SIMPLEX, 1, (0, 0, 0), 2)\n",
    "        key = cv2.waitKey(1)\n",
    "        if key == ord('r'):\n",
    "            reset_game()\n",
    "            game_over = False  # Reset the game over flag\n",
    "            game_over_text = ''  # Clear game over text\n",
    "\n",
    "    else:\n",
    "        # Draw paddle and ball on the frame\n",
    "        cv2.rectangle(frame, (0, right_paddle_y - paddle_height // 2), (paddle_width, right_paddle_y + paddle_height // 2), (0, 255, 0), -1)\n",
    "        cv2.rectangle(frame, (width - paddle_width, left_paddle_y - paddle_height // 2), (width, left_paddle_y + paddle_height // 2), (0, 255, 0), -1)\n",
    "        cv2.circle(frame, (ball_x, ball_y), ball_radius, (255, 0, 0), -1)\n",
    "        cv2.putText(frame, \"Player 1: {}\".format(score_left), (10, 50), cv2.FONT_HERSHEY_SIMPLEX, 1, (0, 0, 0), 2)\n",
    "        cv2.putText(frame, \"Player 2: {}\".format(score_right), (700, 50), cv2.FONT_HERSHEY_SIMPLEX, 1, (0, 0, 0), 2)\n",
    "\n",
    "\n",
    "\n",
    "    # Draw keypoints and edges\n",
    "    frame_with_keypoints= draw_keypoints(frame, keypoints_with_scores, confidence_threshold)\n",
    "    frame_with_keypoints_and_edges = draw_edges(frame_with_keypoints, keypoints_with_scores, confidence_threshold)\n",
    "\n",
    "    # Display the frame\n",
    "    cv2.imshow('MoveNet', frame_with_keypoints_and_edges)\n",
    "\n",
    "    # Break the loop if 'q' key is pressed\n",
    "    if cv2.waitKey(1) & 0xFF == ord('q'):\n",
    "        break\n",
    "\n",
    "# Release the webcam and close all windows\n",
    "cap.release()\n",
    "cv2.destroyAllWindows()\n",
    "cv2.waitKey(1)"
   ]
  },
  {
   "cell_type": "markdown",
   "source": [
    "## pong improved"
   ],
   "metadata": {
    "collapsed": false
   }
  },
  {
   "cell_type": "code",
   "execution_count": 8,
   "outputs": [
    {
     "ename": "error",
     "evalue": "OpenCV(4.9.0) :-1: error: (-5:Bad argument) in function 'circle'\n> Overload resolution failed:\n>  - Can't parse 'center'. Sequence item with index 0 has a wrong type\n>  - Can't parse 'center'. Sequence item with index 0 has a wrong type\n",
     "output_type": "error",
     "traceback": [
      "\u001B[1;31m---------------------------------------------------------------------------\u001B[0m",
      "\u001B[1;31merror\u001B[0m                                     Traceback (most recent call last)",
      "Cell \u001B[1;32mIn[8], line 119\u001B[0m\n\u001B[0;32m    117\u001B[0m cv2\u001B[38;5;241m.\u001B[39mrectangle(frame, (\u001B[38;5;241m0\u001B[39m, right_paddle_y \u001B[38;5;241m-\u001B[39m paddle_height \u001B[38;5;241m/\u001B[39m\u001B[38;5;241m/\u001B[39m \u001B[38;5;241m2\u001B[39m), (paddle_width, right_paddle_y \u001B[38;5;241m+\u001B[39m paddle_height \u001B[38;5;241m/\u001B[39m\u001B[38;5;241m/\u001B[39m \u001B[38;5;241m2\u001B[39m), (\u001B[38;5;241m0\u001B[39m, \u001B[38;5;241m255\u001B[39m, \u001B[38;5;241m0\u001B[39m), \u001B[38;5;241m-\u001B[39m\u001B[38;5;241m1\u001B[39m)\n\u001B[0;32m    118\u001B[0m cv2\u001B[38;5;241m.\u001B[39mrectangle(frame, (width \u001B[38;5;241m-\u001B[39m paddle_width, left_paddle_y \u001B[38;5;241m-\u001B[39m paddle_height \u001B[38;5;241m/\u001B[39m\u001B[38;5;241m/\u001B[39m \u001B[38;5;241m2\u001B[39m), (width, left_paddle_y \u001B[38;5;241m+\u001B[39m paddle_height \u001B[38;5;241m/\u001B[39m\u001B[38;5;241m/\u001B[39m \u001B[38;5;241m2\u001B[39m), (\u001B[38;5;241m0\u001B[39m, \u001B[38;5;241m255\u001B[39m, \u001B[38;5;241m0\u001B[39m), \u001B[38;5;241m-\u001B[39m\u001B[38;5;241m1\u001B[39m)\n\u001B[1;32m--> 119\u001B[0m \u001B[43mcv2\u001B[49m\u001B[38;5;241;43m.\u001B[39;49m\u001B[43mcircle\u001B[49m\u001B[43m(\u001B[49m\u001B[43mframe\u001B[49m\u001B[43m,\u001B[49m\u001B[43m \u001B[49m\u001B[43m(\u001B[49m\u001B[43mball_x\u001B[49m\u001B[43m,\u001B[49m\u001B[43m \u001B[49m\u001B[43mball_y\u001B[49m\u001B[43m)\u001B[49m\u001B[43m,\u001B[49m\u001B[43m \u001B[49m\u001B[43mball_radius\u001B[49m\u001B[43m,\u001B[49m\u001B[43m \u001B[49m\u001B[43m(\u001B[49m\u001B[38;5;241;43m255\u001B[39;49m\u001B[43m,\u001B[49m\u001B[43m \u001B[49m\u001B[38;5;241;43m0\u001B[39;49m\u001B[43m,\u001B[49m\u001B[43m \u001B[49m\u001B[38;5;241;43m0\u001B[39;49m\u001B[43m)\u001B[49m\u001B[43m,\u001B[49m\u001B[43m \u001B[49m\u001B[38;5;241;43m-\u001B[39;49m\u001B[38;5;241;43m1\u001B[39;49m\u001B[43m)\u001B[49m\n\u001B[0;32m    120\u001B[0m cv2\u001B[38;5;241m.\u001B[39mputText(frame, \u001B[38;5;124m\"\u001B[39m\u001B[38;5;124mPlayer 1: \u001B[39m\u001B[38;5;132;01m{}\u001B[39;00m\u001B[38;5;124m\"\u001B[39m\u001B[38;5;241m.\u001B[39mformat(score_left), (\u001B[38;5;241m10\u001B[39m, \u001B[38;5;241m50\u001B[39m), cv2\u001B[38;5;241m.\u001B[39mFONT_HERSHEY_SIMPLEX, \u001B[38;5;241m1\u001B[39m, (\u001B[38;5;241m0\u001B[39m, \u001B[38;5;241m0\u001B[39m, \u001B[38;5;241m0\u001B[39m), \u001B[38;5;241m2\u001B[39m)\n\u001B[0;32m    121\u001B[0m cv2\u001B[38;5;241m.\u001B[39mputText(frame, \u001B[38;5;124m\"\u001B[39m\u001B[38;5;124mPlayer 2: \u001B[39m\u001B[38;5;132;01m{}\u001B[39;00m\u001B[38;5;124m\"\u001B[39m\u001B[38;5;241m.\u001B[39mformat(score_right), (\u001B[38;5;241m700\u001B[39m, \u001B[38;5;241m50\u001B[39m), cv2\u001B[38;5;241m.\u001B[39mFONT_HERSHEY_SIMPLEX, \u001B[38;5;241m1\u001B[39m, (\u001B[38;5;241m0\u001B[39m, \u001B[38;5;241m0\u001B[39m, \u001B[38;5;241m0\u001B[39m), \u001B[38;5;241m2\u001B[39m)\n",
      "\u001B[1;31merror\u001B[0m: OpenCV(4.9.0) :-1: error: (-5:Bad argument) in function 'circle'\n> Overload resolution failed:\n>  - Can't parse 'center'. Sequence item with index 0 has a wrong type\n>  - Can't parse 'center'. Sequence item with index 0 has a wrong type\n"
     ]
    }
   ],
   "source": [
    "cap = cv2.VideoCapture(0)\n",
    "\n",
    "cap.set(3,1000)\n",
    "cap.set(4,820)\n",
    "width  = int(cap.get(cv2.CAP_PROP_FRAME_WIDTH))   # float `width`\n",
    "height = int(cap.get(cv2.CAP_PROP_FRAME_HEIGHT))\n",
    "reset_game()\n",
    "\n",
    "\n",
    "import time\n",
    "speed_increase_timer = time.time()\n",
    "time_to_increase_speed = 3\n",
    "# ... (Your previous code)\n",
    "\n",
    "while cap.isOpened():\n",
    "    ret, frame = cap.read()\n",
    "\n",
    "    if not ret:\n",
    "        print(\"Failed to capture a frame. Exiting...\")\n",
    "        break\n",
    "\n",
    "    # Flip the frame horizontally for a later selfie-view display\n",
    "    frame = cv2.flip(frame, 1)\n",
    "\n",
    "    # Convert the BGR image to RGB\n",
    "    cv2.cvtColor(frame, cv2.COLOR_BGR2RGB)\n",
    "\n",
    "    # Prepare frame for detection\n",
    "    image = frame.copy()\n",
    "    image = tf.expand_dims(image, axis=0)\n",
    "    # Resize with zero padding (if aspect ratio doesn't match the original one)\n",
    "    image = tf.image.resize_with_pad(image,160,256)\n",
    "    image = tf.cast(image, dtype=tf.int32)\n",
    "    \n",
    "    # Detect\n",
    "    results = movenet(image)\n",
    "    keypoints_with_scores = results['output_0'].numpy()[:,:,:51].reshape(6,17,3)\n",
    "\n",
    "    # Get keypoints of 2 people with the highest confidence\n",
    "    keypoints_with_scores = twoplayer_highest_confidence(keypoints_with_scores)\n",
    "\n",
    "    # Extract nose landmarks\n",
    "    person1 = keypoints_with_scores[0,0,:]\n",
    "    person2 = keypoints_with_scores[1,0,:]\n",
    "\n",
    "    person1_y = int(person1[0] * height)\n",
    "    person2_y = int(person2[0] * height)\n",
    "\n",
    "    # Update paddle positions\n",
    "    right_paddle_y = person1_y\n",
    "    left_paddle_y = person2_y\n",
    "\n",
    "    # Set confidence threshold\n",
    "    confidence_threshold = 0.3\n",
    "\n",
    " # Überprüfe, ob 2 Sekunden vergangen sind, um die Ballgeschwindigkeit zu erhöhen\n",
    "    if time.time() - speed_increase_timer >= time_to_increase_speed:\n",
    "        ball_dx *= 0.5  # Increase ball speed in the x-direction\n",
    "        ball_dy *= 0.5 # Increase ball speed in the y-direction\n",
    "        speed_increase_timer = time.time()  # Setze den Timer zurück\n",
    "\n",
    "    # Update ball position\n",
    "    ball_x += ball_dx\n",
    "    ball_y += ball_dy\n",
    "\n",
    "    # Bounce off of the top and bottom walls\n",
    "    if ball_y - ball_radius <= 0 or ball_y + ball_radius >= height:\n",
    "        ball_dy = -ball_dy\n",
    "    if (\n",
    "            ball_x + ball_radius >= width - paddle_width and \n",
    "            right_paddle_y - paddle_height // 2 <= ball_y <= right_paddle_y + paddle_height // 2 and\n",
    "            ball_dx > 0  # Ensure the ball is moving towards the right\n",
    "        ):\n",
    "            ball_dx = -ball_dx  # Change direction\n",
    "    \n",
    "    # Check for collision with left paddle\n",
    "    if (\n",
    "            ball_x - ball_radius <= paddle_width and\n",
    "            left_paddle_y - paddle_height // 2 <= ball_y <= left_paddle_y + paddle_height // 2 and\n",
    "            ball_dx < 0  # Ensure the ball is moving towards the left\n",
    "        ):\n",
    "            ball_dx = -ball_dx  # Change direction\n",
    "    # Count score and reset ball\n",
    "    if ball_x <= 0:\n",
    "        score_right += 1\n",
    "        ball_x = width // 2\n",
    "        ball_y = height // 2\n",
    "        ball_speed = 5  # Reset ball speed\n",
    "\n",
    "    if ball_x >= width:\n",
    "        score_left += 1\n",
    "        ball_x = width // 2\n",
    "        ball_y = height // 2\n",
    "        ball_speed = 5  # Reset ball speed\n",
    "\n",
    "    # Check if the game is over #TODO\n",
    "    if score_left >= 5 or score_right >= 5:\n",
    "        game_over = True\n",
    "        game_over_text = \"Game Over! Player 1: {} - Player 2: {}\".format(score_left, score_right)\n",
    "        offset = 35\n",
    "        x,y = 50,50\n",
    "        cv2.putText(frame, game_over_text, (200, 200), cv2.FONT_HERSHEY_SIMPLEX, 1, (0, 0, 0), 2)\n",
    "        cv2.putText(frame, replay_text, (3500, 250), cv2.FONT_HERSHEY_SIMPLEX, 1, (0, 0, 0), 2)\n",
    "        ball_speed = 0\n",
    "        key = cv2.waitKey(1)\n",
    "        if key == ord('r') :\n",
    "            reset_game()\n",
    "            game_over = False  # Reset the game over flag\n",
    "            game_over_text = ''  # Clear game over text\n",
    "        else:\n",
    "            # Pause until 'r' is pressed\n",
    "            time.sleep(0.1)  # Adjust the duration as needed\n",
    "            continue \n",
    "    \n",
    "    else:\n",
    "        # Draw paddle and ball on the frame\n",
    "        cv2.rectangle(frame, (0, right_paddle_y - paddle_height // 2), (paddle_width, right_paddle_y + paddle_height // 2), (0, 255, 0), -1)\n",
    "        cv2.rectangle(frame, (width - paddle_width, left_paddle_y - paddle_height // 2), (width, left_paddle_y + paddle_height // 2), (0, 255, 0), -1)\n",
    "        cv2.circle(frame, (ball_x, ball_y), ball_radius, (255, 0, 0), -1)\n",
    "        cv2.putText(frame, \"Player 1: {}\".format(score_left), (10, 50), cv2.FONT_HERSHEY_SIMPLEX, 1, (0, 0, 0), 2)\n",
    "        cv2.putText(frame, \"Player 2: {}\".format(score_right), (700, 50), cv2.FONT_HERSHEY_SIMPLEX, 1, (0, 0, 0), 2)\n",
    "\n",
    "    # Draw keypoints and edges\n",
    "    frame_with_keypoints= draw_keypoints(frame, keypoints_with_scores, confidence_threshold)\n",
    "    frame_with_keypoints_and_edges = draw_edges(frame_with_keypoints, keypoints_with_scores, confidence_threshold)\n",
    "\n",
    "    # Display the frame\n",
    "    cv2.imshow('MoveNet', frame_with_keypoints_and_edges)\n",
    "\n",
    "    # Break the loop if 'q' key is pressed\n",
    "    if cv2.waitKey(1) & 0xFF == ord('q'):\n",
    "        break\n",
    "\n",
    "# Release the webcam and close all windows\n",
    "cap.release()\n",
    "cv2.destroyAllWindows()\n",
    "cv2.waitKey(1)\n"
   ],
   "metadata": {
    "collapsed": false,
    "ExecuteTime": {
     "end_time": "2024-01-17T11:32:57.570783900Z",
     "start_time": "2024-01-17T11:32:52.911824900Z"
    }
   }
  },
  {
   "cell_type": "code",
   "execution_count": null,
   "outputs": [],
   "source": [
    "plt.imshow(frame)"
   ],
   "metadata": {
    "collapsed": false
   }
  },
  {
   "cell_type": "code",
   "execution_count": null,
   "metadata": {},
   "outputs": [],
   "source": [
    "plt.imshow(frame_with_keypoints_and_edges)"
   ]
  }
 ],
 "metadata": {
  "kernelspec": {
   "display_name": "tensorflow",
   "language": "python",
   "name": "python3"
  },
  "language_info": {
   "codemirror_mode": {
    "name": "ipython",
    "version": 3
   },
   "file_extension": ".py",
   "mimetype": "text/x-python",
   "name": "python",
   "nbconvert_exporter": "python",
   "pygments_lexer": "ipython3",
   "version": "3.9.18"
  }
 },
 "nbformat": 4,
 "nbformat_minor": 2
}
